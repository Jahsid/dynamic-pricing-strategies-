{
 "cells": [
  {
   "cell_type": "code",
   "execution_count": 4,
   "id": "25340b70-02b3-4048-84dc-5d2cbd3967d7",
   "metadata": {},
   "outputs": [],
   "source": [
    "import pandas as pd"
   ]
  },
  {
   "cell_type": "code",
   "execution_count": 5,
   "id": "bdd25cba-9d60-4b62-aa94-5b65cb42971b",
   "metadata": {},
   "outputs": [],
   "source": [
    "df1 = pd.read_csv(\"Fitness_Classes_Data/Fitness Classes Data/Classes April-May 2018.csv\")\n",
    "df2 = pd.read_csv(\"Fitness_Classes_Data/Fitness Classes Data/Classes June 2018.csv\")"
   ]
  },
  {
   "cell_type": "code",
   "execution_count": 6,
   "id": "a034a74a-e9cf-4fa2-ad41-21400f4a5e46",
   "metadata": {},
   "outputs": [
    {
     "name": "stdout",
     "output_type": "stream",
     "text": [
      "(2177, 7) (1112, 7)\n"
     ]
    }
   ],
   "source": [
    "print(df1.shape, df2.shape)"
   ]
  },
  {
   "cell_type": "code",
   "execution_count": 7,
   "id": "23ec48fd-b1d9-4308-8bab-f83b2990cce4",
   "metadata": {},
   "outputs": [
    {
     "name": "stdout",
     "output_type": "stream",
     "text": [
      "Index(['ActivitySiteID', 'ActivityDescription',\n",
      "       'BookingEndDateTime (Month / Day / Year)', 'BookingStartTime',\n",
      "       'MaxBookees', 'Number Booked', 'Price (INR)'],\n",
      "      dtype='object')\n"
     ]
    }
   ],
   "source": [
    "print(df1.columns)"
   ]
  },
  {
   "cell_type": "code",
   "execution_count": 8,
   "id": "5e025912-66f2-4579-a0fa-9a982ff7d60b",
   "metadata": {},
   "outputs": [
    {
     "name": "stdout",
     "output_type": "stream",
     "text": [
      "Index(['ActivitySiteID', 'ActivityDescription',\n",
      "       'BookingEndDateTime (Month / Day / Year)', 'BookingStartTime',\n",
      "       'MaxBookees', 'Number Booked', 'Price (INR)'],\n",
      "      dtype='object')\n"
     ]
    }
   ],
   "source": [
    "print(df2.columns)"
   ]
  },
  {
   "cell_type": "code",
   "execution_count": 9,
   "id": "445b497d-8431-437f-b4f1-6aa507db10f9",
   "metadata": {},
   "outputs": [
    {
     "data": {
      "text/html": [
       "<div>\n",
       "<style scoped>\n",
       "    .dataframe tbody tr th:only-of-type {\n",
       "        vertical-align: middle;\n",
       "    }\n",
       "\n",
       "    .dataframe tbody tr th {\n",
       "        vertical-align: top;\n",
       "    }\n",
       "\n",
       "    .dataframe thead th {\n",
       "        text-align: right;\n",
       "    }\n",
       "</style>\n",
       "<table border=\"1\" class=\"dataframe\">\n",
       "  <thead>\n",
       "    <tr style=\"text-align: right;\">\n",
       "      <th></th>\n",
       "      <th>ActivitySiteID</th>\n",
       "      <th>ActivityDescription</th>\n",
       "      <th>BookingEndDateTime (Month / Day / Year)</th>\n",
       "      <th>BookingStartTime</th>\n",
       "      <th>MaxBookees</th>\n",
       "      <th>Number Booked</th>\n",
       "      <th>Price (INR)</th>\n",
       "    </tr>\n",
       "  </thead>\n",
       "  <tbody>\n",
       "    <tr>\n",
       "      <th>0</th>\n",
       "      <td>HXP</td>\n",
       "      <td>20-20-20  2.45pm-3.45pm</td>\n",
       "      <td>08-Apr-18</td>\n",
       "      <td>14:45:00</td>\n",
       "      <td>25</td>\n",
       "      <td>12</td>\n",
       "      <td>499.0</td>\n",
       "    </tr>\n",
       "    <tr>\n",
       "      <th>1</th>\n",
       "      <td>HXP</td>\n",
       "      <td>20-20-20  2.45pm-3.45pm</td>\n",
       "      <td>15-Apr-18</td>\n",
       "      <td>14:45:00</td>\n",
       "      <td>25</td>\n",
       "      <td>15</td>\n",
       "      <td>499.0</td>\n",
       "    </tr>\n",
       "    <tr>\n",
       "      <th>2</th>\n",
       "      <td>HXP</td>\n",
       "      <td>20-20-20  2.45pm-3.45pm</td>\n",
       "      <td>22-Apr-18</td>\n",
       "      <td>14:45:00</td>\n",
       "      <td>25</td>\n",
       "      <td>14</td>\n",
       "      <td>499.0</td>\n",
       "    </tr>\n",
       "    <tr>\n",
       "      <th>3</th>\n",
       "      <td>HXP</td>\n",
       "      <td>20-20-20  2.45pm-3.45pm</td>\n",
       "      <td>29-Apr-18</td>\n",
       "      <td>14:45:00</td>\n",
       "      <td>25</td>\n",
       "      <td>9</td>\n",
       "      <td>499.0</td>\n",
       "    </tr>\n",
       "    <tr>\n",
       "      <th>4</th>\n",
       "      <td>HXP</td>\n",
       "      <td>20-20-20  2.45pm-3.45pm</td>\n",
       "      <td>06-May-18</td>\n",
       "      <td>14:45:00</td>\n",
       "      <td>25</td>\n",
       "      <td>7</td>\n",
       "      <td>499.0</td>\n",
       "    </tr>\n",
       "  </tbody>\n",
       "</table>\n",
       "</div>"
      ],
      "text/plain": [
       "  ActivitySiteID      ActivityDescription  \\\n",
       "0            HXP  20-20-20  2.45pm-3.45pm   \n",
       "1            HXP  20-20-20  2.45pm-3.45pm   \n",
       "2            HXP  20-20-20  2.45pm-3.45pm   \n",
       "3            HXP  20-20-20  2.45pm-3.45pm   \n",
       "4            HXP  20-20-20  2.45pm-3.45pm   \n",
       "\n",
       "  BookingEndDateTime (Month / Day / Year) BookingStartTime  MaxBookees  \\\n",
       "0                               08-Apr-18         14:45:00          25   \n",
       "1                               15-Apr-18         14:45:00          25   \n",
       "2                               22-Apr-18         14:45:00          25   \n",
       "3                               29-Apr-18         14:45:00          25   \n",
       "4                               06-May-18         14:45:00          25   \n",
       "\n",
       "   Number Booked  Price (INR)  \n",
       "0             12        499.0  \n",
       "1             15        499.0  \n",
       "2             14        499.0  \n",
       "3              9        499.0  \n",
       "4              7        499.0  "
      ]
     },
     "execution_count": 9,
     "metadata": {},
     "output_type": "execute_result"
    }
   ],
   "source": [
    "df1.head(5)"
   ]
  },
  {
   "cell_type": "code",
   "execution_count": 10,
   "id": "d779d730-e251-43c8-9fb6-c4f5f66e3bc5",
   "metadata": {},
   "outputs": [
    {
     "data": {
      "text/html": [
       "<div>\n",
       "<style scoped>\n",
       "    .dataframe tbody tr th:only-of-type {\n",
       "        vertical-align: middle;\n",
       "    }\n",
       "\n",
       "    .dataframe tbody tr th {\n",
       "        vertical-align: top;\n",
       "    }\n",
       "\n",
       "    .dataframe thead th {\n",
       "        text-align: right;\n",
       "    }\n",
       "</style>\n",
       "<table border=\"1\" class=\"dataframe\">\n",
       "  <thead>\n",
       "    <tr style=\"text-align: right;\">\n",
       "      <th></th>\n",
       "      <th>ActivitySiteID</th>\n",
       "      <th>ActivityDescription</th>\n",
       "      <th>BookingEndDateTime (Month / Day / Year)</th>\n",
       "      <th>BookingStartTime</th>\n",
       "      <th>MaxBookees</th>\n",
       "      <th>Number Booked</th>\n",
       "      <th>Price (INR)</th>\n",
       "    </tr>\n",
       "  </thead>\n",
       "  <tbody>\n",
       "    <tr>\n",
       "      <th>2172</th>\n",
       "      <td>NBL</td>\n",
       "      <td>Zumba Gold 12.45-1.45pm</td>\n",
       "      <td>01-May-18</td>\n",
       "      <td>12:45:00</td>\n",
       "      <td>60</td>\n",
       "      <td>47</td>\n",
       "      <td>1999.0</td>\n",
       "    </tr>\n",
       "    <tr>\n",
       "      <th>2173</th>\n",
       "      <td>NBL</td>\n",
       "      <td>Zumba Gold 12.45-1.45pm</td>\n",
       "      <td>08-May-18</td>\n",
       "      <td>12:45:00</td>\n",
       "      <td>60</td>\n",
       "      <td>42</td>\n",
       "      <td>1999.0</td>\n",
       "    </tr>\n",
       "    <tr>\n",
       "      <th>2174</th>\n",
       "      <td>NBL</td>\n",
       "      <td>Zumba Gold 12.45-1.45pm</td>\n",
       "      <td>15-May-18</td>\n",
       "      <td>12:45:00</td>\n",
       "      <td>60</td>\n",
       "      <td>38</td>\n",
       "      <td>1999.0</td>\n",
       "    </tr>\n",
       "    <tr>\n",
       "      <th>2175</th>\n",
       "      <td>NBL</td>\n",
       "      <td>Zumba Gold 12.45-1.45pm</td>\n",
       "      <td>22-May-18</td>\n",
       "      <td>12:45:00</td>\n",
       "      <td>60</td>\n",
       "      <td>39</td>\n",
       "      <td>1999.0</td>\n",
       "    </tr>\n",
       "    <tr>\n",
       "      <th>2176</th>\n",
       "      <td>NBL</td>\n",
       "      <td>Zumba Gold 12.45-1.45pm</td>\n",
       "      <td>29-May-18</td>\n",
       "      <td>12:45:00</td>\n",
       "      <td>60</td>\n",
       "      <td>41</td>\n",
       "      <td>1999.0</td>\n",
       "    </tr>\n",
       "  </tbody>\n",
       "</table>\n",
       "</div>"
      ],
      "text/plain": [
       "     ActivitySiteID      ActivityDescription  \\\n",
       "2172            NBL  Zumba Gold 12.45-1.45pm   \n",
       "2173            NBL  Zumba Gold 12.45-1.45pm   \n",
       "2174            NBL  Zumba Gold 12.45-1.45pm   \n",
       "2175            NBL  Zumba Gold 12.45-1.45pm   \n",
       "2176            NBL  Zumba Gold 12.45-1.45pm   \n",
       "\n",
       "     BookingEndDateTime (Month / Day / Year) BookingStartTime  MaxBookees  \\\n",
       "2172                               01-May-18         12:45:00          60   \n",
       "2173                               08-May-18         12:45:00          60   \n",
       "2174                               15-May-18         12:45:00          60   \n",
       "2175                               22-May-18         12:45:00          60   \n",
       "2176                               29-May-18         12:45:00          60   \n",
       "\n",
       "      Number Booked  Price (INR)  \n",
       "2172             47       1999.0  \n",
       "2173             42       1999.0  \n",
       "2174             38       1999.0  \n",
       "2175             39       1999.0  \n",
       "2176             41       1999.0  "
      ]
     },
     "execution_count": 10,
     "metadata": {},
     "output_type": "execute_result"
    }
   ],
   "source": [
    "df1.tail(5)"
   ]
  },
  {
   "cell_type": "code",
   "execution_count": 11,
   "id": "f4798f54-2201-4301-b233-22389cc3ffaa",
   "metadata": {},
   "outputs": [
    {
     "data": {
      "text/html": [
       "<div>\n",
       "<style scoped>\n",
       "    .dataframe tbody tr th:only-of-type {\n",
       "        vertical-align: middle;\n",
       "    }\n",
       "\n",
       "    .dataframe tbody tr th {\n",
       "        vertical-align: top;\n",
       "    }\n",
       "\n",
       "    .dataframe thead th {\n",
       "        text-align: right;\n",
       "    }\n",
       "</style>\n",
       "<table border=\"1\" class=\"dataframe\">\n",
       "  <thead>\n",
       "    <tr style=\"text-align: right;\">\n",
       "      <th></th>\n",
       "      <th>ActivitySiteID</th>\n",
       "      <th>ActivityDescription</th>\n",
       "      <th>BookingEndDateTime (Month / Day / Year)</th>\n",
       "      <th>BookingStartTime</th>\n",
       "      <th>MaxBookees</th>\n",
       "      <th>Number Booked</th>\n",
       "      <th>Price (INR)</th>\n",
       "    </tr>\n",
       "  </thead>\n",
       "  <tbody>\n",
       "    <tr>\n",
       "      <th>0</th>\n",
       "      <td>BRP</td>\n",
       "      <td>20:20:20  9.30-10.30am</td>\n",
       "      <td>01-Jun-18</td>\n",
       "      <td>9:30:00</td>\n",
       "      <td>35</td>\n",
       "      <td>28</td>\n",
       "      <td>499</td>\n",
       "    </tr>\n",
       "    <tr>\n",
       "      <th>1</th>\n",
       "      <td>BRP</td>\n",
       "      <td>20:20:20  9.30-10.30am</td>\n",
       "      <td>08-Jun-18</td>\n",
       "      <td>9:30:00</td>\n",
       "      <td>35</td>\n",
       "      <td>35</td>\n",
       "      <td>499</td>\n",
       "    </tr>\n",
       "    <tr>\n",
       "      <th>2</th>\n",
       "      <td>BRP</td>\n",
       "      <td>20:20:20  9.30-10.30am</td>\n",
       "      <td>15-Jun-18</td>\n",
       "      <td>9:30:00</td>\n",
       "      <td>35</td>\n",
       "      <td>31</td>\n",
       "      <td>499</td>\n",
       "    </tr>\n",
       "    <tr>\n",
       "      <th>3</th>\n",
       "      <td>BRP</td>\n",
       "      <td>20:20:20  9.30-10.30am</td>\n",
       "      <td>22-Jun-18</td>\n",
       "      <td>9:30:00</td>\n",
       "      <td>35</td>\n",
       "      <td>32</td>\n",
       "      <td>499</td>\n",
       "    </tr>\n",
       "    <tr>\n",
       "      <th>4</th>\n",
       "      <td>BRP</td>\n",
       "      <td>20:20:20  9.30-10.30am</td>\n",
       "      <td>29-Jun-18</td>\n",
       "      <td>9:30:00</td>\n",
       "      <td>35</td>\n",
       "      <td>19</td>\n",
       "      <td>499</td>\n",
       "    </tr>\n",
       "  </tbody>\n",
       "</table>\n",
       "</div>"
      ],
      "text/plain": [
       "  ActivitySiteID     ActivityDescription  \\\n",
       "0            BRP  20:20:20  9.30-10.30am   \n",
       "1            BRP  20:20:20  9.30-10.30am   \n",
       "2            BRP  20:20:20  9.30-10.30am   \n",
       "3            BRP  20:20:20  9.30-10.30am   \n",
       "4            BRP  20:20:20  9.30-10.30am   \n",
       "\n",
       "  BookingEndDateTime (Month / Day / Year) BookingStartTime  MaxBookees  \\\n",
       "0                               01-Jun-18          9:30:00          35   \n",
       "1                               08-Jun-18          9:30:00          35   \n",
       "2                               15-Jun-18          9:30:00          35   \n",
       "3                               22-Jun-18          9:30:00          35   \n",
       "4                               29-Jun-18          9:30:00          35   \n",
       "\n",
       "   Number Booked  Price (INR)  \n",
       "0             28          499  \n",
       "1             35          499  \n",
       "2             31          499  \n",
       "3             32          499  \n",
       "4             19          499  "
      ]
     },
     "execution_count": 11,
     "metadata": {},
     "output_type": "execute_result"
    }
   ],
   "source": [
    "df2.head(5)"
   ]
  },
  {
   "cell_type": "code",
   "execution_count": 12,
   "id": "25e6c54e-e0bd-4051-bb04-1f1eaab2361b",
   "metadata": {},
   "outputs": [
    {
     "data": {
      "text/html": [
       "<div>\n",
       "<style scoped>\n",
       "    .dataframe tbody tr th:only-of-type {\n",
       "        vertical-align: middle;\n",
       "    }\n",
       "\n",
       "    .dataframe tbody tr th {\n",
       "        vertical-align: top;\n",
       "    }\n",
       "\n",
       "    .dataframe thead th {\n",
       "        text-align: right;\n",
       "    }\n",
       "</style>\n",
       "<table border=\"1\" class=\"dataframe\">\n",
       "  <thead>\n",
       "    <tr style=\"text-align: right;\">\n",
       "      <th></th>\n",
       "      <th>ActivitySiteID</th>\n",
       "      <th>ActivityDescription</th>\n",
       "      <th>BookingEndDateTime (Month / Day / Year)</th>\n",
       "      <th>BookingStartTime</th>\n",
       "      <th>MaxBookees</th>\n",
       "      <th>Number Booked</th>\n",
       "      <th>Price (INR)</th>\n",
       "    </tr>\n",
       "  </thead>\n",
       "  <tbody>\n",
       "    <tr>\n",
       "      <th>1107</th>\n",
       "      <td>TSC</td>\n",
       "      <td>Zumba  6.30-7.30pm</td>\n",
       "      <td>18-Jun-18</td>\n",
       "      <td>18:30:00</td>\n",
       "      <td>18</td>\n",
       "      <td>9</td>\n",
       "      <td>1299</td>\n",
       "    </tr>\n",
       "    <tr>\n",
       "      <th>1108</th>\n",
       "      <td>TSC</td>\n",
       "      <td>Zumba  6.30-7.30pm</td>\n",
       "      <td>25-Jun-18</td>\n",
       "      <td>18:30:00</td>\n",
       "      <td>18</td>\n",
       "      <td>9</td>\n",
       "      <td>1299</td>\n",
       "    </tr>\n",
       "    <tr>\n",
       "      <th>1109</th>\n",
       "      <td>TSC</td>\n",
       "      <td>Zumba - 6-7pm</td>\n",
       "      <td>07-Jun-18</td>\n",
       "      <td>18:00:00</td>\n",
       "      <td>50</td>\n",
       "      <td>16</td>\n",
       "      <td>1299</td>\n",
       "    </tr>\n",
       "    <tr>\n",
       "      <th>1110</th>\n",
       "      <td>TSC</td>\n",
       "      <td>Zumba - 6-7pm</td>\n",
       "      <td>14-Jun-18</td>\n",
       "      <td>18:00:00</td>\n",
       "      <td>50</td>\n",
       "      <td>13</td>\n",
       "      <td>1299</td>\n",
       "    </tr>\n",
       "    <tr>\n",
       "      <th>1111</th>\n",
       "      <td>TSC</td>\n",
       "      <td>Zumba - 6-7pm</td>\n",
       "      <td>21-Jun-18</td>\n",
       "      <td>18:00:00</td>\n",
       "      <td>50</td>\n",
       "      <td>12</td>\n",
       "      <td>1299</td>\n",
       "    </tr>\n",
       "  </tbody>\n",
       "</table>\n",
       "</div>"
      ],
      "text/plain": [
       "     ActivitySiteID ActivityDescription  \\\n",
       "1107            TSC  Zumba  6.30-7.30pm   \n",
       "1108            TSC  Zumba  6.30-7.30pm   \n",
       "1109            TSC       Zumba - 6-7pm   \n",
       "1110            TSC       Zumba - 6-7pm   \n",
       "1111            TSC       Zumba - 6-7pm   \n",
       "\n",
       "     BookingEndDateTime (Month / Day / Year) BookingStartTime  MaxBookees  \\\n",
       "1107                               18-Jun-18         18:30:00          18   \n",
       "1108                               25-Jun-18         18:30:00          18   \n",
       "1109                               07-Jun-18         18:00:00          50   \n",
       "1110                               14-Jun-18         18:00:00          50   \n",
       "1111                               21-Jun-18         18:00:00          50   \n",
       "\n",
       "      Number Booked  Price (INR)  \n",
       "1107              9         1299  \n",
       "1108              9         1299  \n",
       "1109             16         1299  \n",
       "1110             13         1299  \n",
       "1111             12         1299  "
      ]
     },
     "execution_count": 12,
     "metadata": {},
     "output_type": "execute_result"
    }
   ],
   "source": [
    "df2.tail(5)"
   ]
  },
  {
   "cell_type": "code",
   "execution_count": 13,
   "id": "512585c2-7d36-4d26-8d61-0fd646a23bb0",
   "metadata": {},
   "outputs": [
    {
     "name": "stdout",
     "output_type": "stream",
     "text": [
      "<class 'pandas.core.frame.DataFrame'>\n",
      "RangeIndex: 2177 entries, 0 to 2176\n",
      "Data columns (total 7 columns):\n",
      " #   Column                                   Non-Null Count  Dtype  \n",
      "---  ------                                   --------------  -----  \n",
      " 0   ActivitySiteID                           2177 non-null   object \n",
      " 1   ActivityDescription                      2177 non-null   object \n",
      " 2   BookingEndDateTime (Month / Day / Year)  2177 non-null   object \n",
      " 3   BookingStartTime                         2177 non-null   object \n",
      " 4   MaxBookees                               2177 non-null   int64  \n",
      " 5   Number Booked                            2177 non-null   int64  \n",
      " 6   Price (INR)                              2159 non-null   float64\n",
      "dtypes: float64(1), int64(2), object(4)\n",
      "memory usage: 119.2+ KB\n"
     ]
    }
   ],
   "source": [
    "df1.info()"
   ]
  },
  {
   "cell_type": "code",
   "execution_count": 14,
   "id": "202722d6-99dd-485d-9838-faf11fb75988",
   "metadata": {},
   "outputs": [
    {
     "name": "stdout",
     "output_type": "stream",
     "text": [
      "<class 'pandas.core.frame.DataFrame'>\n",
      "RangeIndex: 1112 entries, 0 to 1111\n",
      "Data columns (total 7 columns):\n",
      " #   Column                                   Non-Null Count  Dtype \n",
      "---  ------                                   --------------  ----- \n",
      " 0   ActivitySiteID                           1112 non-null   object\n",
      " 1   ActivityDescription                      1112 non-null   object\n",
      " 2   BookingEndDateTime (Month / Day / Year)  1112 non-null   object\n",
      " 3   BookingStartTime                         1112 non-null   object\n",
      " 4   MaxBookees                               1112 non-null   int64 \n",
      " 5   Number Booked                            1112 non-null   int64 \n",
      " 6   Price (INR)                              1112 non-null   int64 \n",
      "dtypes: int64(3), object(4)\n",
      "memory usage: 60.9+ KB\n"
     ]
    }
   ],
   "source": [
    "df2.info()"
   ]
  },
  {
   "cell_type": "code",
   "execution_count": 15,
   "id": "80dec679-6875-40c8-96d3-b5dcf2b48a6c",
   "metadata": {},
   "outputs": [
    {
     "name": "stdout",
     "output_type": "stream",
     "text": [
      "ActivitySiteID                              0\n",
      "ActivityDescription                         0\n",
      "BookingEndDateTime (Month / Day / Year)     0\n",
      "BookingStartTime                            0\n",
      "MaxBookees                                  0\n",
      "Number Booked                               0\n",
      "Price (INR)                                18\n",
      "dtype: int64\n"
     ]
    }
   ],
   "source": [
    "print(df1.isnull().sum())"
   ]
  },
  {
   "cell_type": "code",
   "execution_count": 16,
   "id": "a7cdc16a-cf5b-4f54-8a4d-d5d741621f65",
   "metadata": {},
   "outputs": [
    {
     "name": "stdout",
     "output_type": "stream",
     "text": [
      "ActivitySiteID                             0\n",
      "ActivityDescription                        0\n",
      "BookingEndDateTime (Month / Day / Year)    0\n",
      "BookingStartTime                           0\n",
      "MaxBookees                                 0\n",
      "Number Booked                              0\n",
      "Price (INR)                                0\n",
      "dtype: int64\n"
     ]
    }
   ],
   "source": [
    "print(df2.isnull().sum())"
   ]
  },
  {
   "cell_type": "code",
   "execution_count": 17,
   "id": "f678aa0f-4ed6-4897-af8d-83256f96f0e3",
   "metadata": {},
   "outputs": [
    {
     "name": "stdout",
     "output_type": "stream",
     "text": [
      "dupes1: 0\n",
      "dupes2: 0\n"
     ]
    }
   ],
   "source": [
    "print(\"dupes1:\", df1.duplicated().sum())\n",
    "print(\"dupes2:\", df2.duplicated().sum())"
   ]
  },
  {
   "cell_type": "code",
   "execution_count": 18,
   "id": "5d7c31f7-70db-47ca-9089-52b3229e1ff9",
   "metadata": {},
   "outputs": [
    {
     "name": "stdout",
     "output_type": "stream",
     "text": [
      "ActivitySiteID → 5 unique\n",
      "ActivityDescription → 264 unique\n",
      "BookingEndDateTime (Month / Day / Year) → 61 unique\n",
      "BookingStartTime → 59 unique\n",
      "MaxBookees → 20 unique\n",
      "Number Booked → 52 unique\n",
      "Price (INR) → 9 unique\n"
     ]
    }
   ],
   "source": [
    "for col in df1.columns:\n",
    "    print(col, \"→\", df1[col].nunique(), \"unique\")"
   ]
  },
  {
   "cell_type": "code",
   "execution_count": 19,
   "id": "3a2e8f75-97a1-4e9b-81e9-c06ad35cff19",
   "metadata": {},
   "outputs": [
    {
     "name": "stdout",
     "output_type": "stream",
     "text": [
      "ActivitySiteID → 5 unique\n",
      "ActivityDescription → 255 unique\n",
      "BookingEndDateTime (Month / Day / Year) → 30 unique\n",
      "BookingStartTime → 58 unique\n",
      "MaxBookees → 19 unique\n",
      "Number Booked → 43 unique\n",
      "Price (INR) → 9 unique\n"
     ]
    }
   ],
   "source": [
    "for col in df2.columns:\n",
    "    print(col, \"→\", df2[col].nunique(), \"unique\")"
   ]
  },
  {
   "cell_type": "code",
   "execution_count": 20,
   "id": "08b8eedb-dd33-43cb-901b-94d6d40825ee",
   "metadata": {},
   "outputs": [
    {
     "name": "stdout",
     "output_type": "stream",
     "text": [
      "        MaxBookees  Number Booked  Price (INR)\n",
      "count  2177.000000    2177.000000  2159.000000\n",
      "mean     32.192007      17.660542  1855.368689\n",
      "std      14.972919       9.622520   801.420753\n",
      "min       2.000000       1.000000   499.000000\n",
      "25%      24.000000      10.000000  1299.000000\n",
      "50%      30.000000      17.000000  1499.000000\n",
      "75%      35.000000      24.000000  2499.000000\n",
      "max      70.000000      64.000000  3999.000000\n"
     ]
    }
   ],
   "source": [
    "print(df1.describe())"
   ]
  },
  {
   "cell_type": "code",
   "execution_count": 21,
   "id": "10df3667-e6b3-4768-bd21-50ab26910235",
   "metadata": {},
   "outputs": [
    {
     "name": "stdout",
     "output_type": "stream",
     "text": [
      "        MaxBookees  Number Booked  Price (INR)\n",
      "count  1112.000000    1112.000000  1112.000000\n",
      "mean     32.154676      15.969424  1847.561151\n",
      "std      15.329663       9.169420   775.628834\n",
      "min       2.000000       1.000000   499.000000\n",
      "25%      24.000000       9.000000  1299.000000\n",
      "50%      30.000000      15.000000  1499.000000\n",
      "75%      35.000000      22.000000  2499.000000\n",
      "max      70.000000      52.000000  3999.000000\n"
     ]
    }
   ],
   "source": [
    "print(df2.describe())"
   ]
  },
  {
   "cell_type": "code",
   "execution_count": 22,
   "id": "166442a5-d353-456d-bb1e-bd4269099fa4",
   "metadata": {},
   "outputs": [
    {
     "name": "stdout",
     "output_type": "stream",
     "text": [
      "ActivityDescription\n",
      "Body Conditioning 10-11am    26\n",
      "Aquafit 7.00-8.00pm          23\n",
      "Body Balance 11-12pm         23\n",
      "Jnr Gym Appoint 4-5pm        22\n",
      "Body Combat 7.00-8.00pm      21\n",
      "Aquafit 7.15-8.15pm          18\n",
      "Body Con 10.30-11.30am       18\n",
      "20-20-20 9.30-10.30am        18\n",
      "Studio Cyc 7.05-7.55am       18\n",
      "Pilates 1.45-2.45pm          18\n",
      "Name: count, dtype: int64\n",
      "ActivitySiteID\n",
      "HXP    521\n",
      "BRP    478\n",
      "SBP    477\n",
      "TSC    355\n",
      "NBL    346\n",
      "Name: count, dtype: int64\n"
     ]
    }
   ],
   "source": [
    "for cat in [\"ActivityDescription\", \"ActivitySiteID\"]:\n",
    "    print(df1[cat].value_counts().head(10))"
   ]
  },
  {
   "cell_type": "code",
   "execution_count": 23,
   "id": "50e41158-3eee-44fd-8f86-8c23deb47333",
   "metadata": {},
   "outputs": [
    {
     "name": "stdout",
     "output_type": "stream",
     "text": [
      "ActivityDescription\n",
      "Body Conditioning 10-11am    13\n",
      "Body Balance 11-12pm         12\n",
      "Body Combat 7.00-8.00pm      12\n",
      "Aquafit 7.00-8.00pm          12\n",
      "Aqua Fit 12.15 -13.15         9\n",
      "Swimfit 7am-8am               9\n",
      "Yoga 10.30-11.30am            9\n",
      "Jnr Gym Appoint 4-5pm         9\n",
      "Pilates 9.30-10.30am          9\n",
      "20-20-20 9.30-10.30am         8\n",
      "Name: count, dtype: int64\n",
      "ActivitySiteID\n",
      "SBP    254\n",
      "HXP    250\n",
      "BRP    249\n",
      "NBL    183\n",
      "TSC    176\n",
      "Name: count, dtype: int64\n"
     ]
    }
   ],
   "source": [
    "for cat in [\"ActivityDescription\", \"ActivitySiteID\"]:\n",
    "    print(df2[cat].value_counts().head(10))"
   ]
  },
  {
   "cell_type": "code",
   "execution_count": 24,
   "id": "8df79585-f9fe-4b10-8153-c2f714654559",
   "metadata": {},
   "outputs": [
    {
     "name": "stdout",
     "output_type": "stream",
     "text": [
      "2018-04-01 00:00:00 → 2018-05-31 00:00:00\n"
     ]
    },
    {
     "name": "stderr",
     "output_type": "stream",
     "text": [
      "C:\\Users\\jahsi\\AppData\\Local\\Temp\\ipykernel_1388\\3992969315.py:1: UserWarning: Could not infer format, so each element will be parsed individually, falling back to `dateutil`. To ensure parsing is consistent and as-expected, please specify a format.\n",
      "  df1[\"BookingEndDateTime (Month / Day / Year)\"] = pd.to_datetime(df1[\"BookingEndDateTime (Month / Day / Year)\"])\n"
     ]
    }
   ],
   "source": [
    "df1[\"BookingEndDateTime (Month / Day / Year)\"] = pd.to_datetime(df1[\"BookingEndDateTime (Month / Day / Year)\"])\n",
    "print(df1[\"BookingEndDateTime (Month / Day / Year)\"].min(), \"→\", df1[\"BookingEndDateTime (Month / Day / Year)\"].max())"
   ]
  },
  {
   "cell_type": "code",
   "execution_count": 25,
   "id": "10dd7410-8b8a-4967-8fe3-d7b8ade89bca",
   "metadata": {},
   "outputs": [
    {
     "name": "stdout",
     "output_type": "stream",
     "text": [
      "2018-06-01 00:00:00 → 2018-06-30 00:00:00\n"
     ]
    },
    {
     "name": "stderr",
     "output_type": "stream",
     "text": [
      "C:\\Users\\jahsi\\AppData\\Local\\Temp\\ipykernel_1388\\1172900188.py:1: UserWarning: Could not infer format, so each element will be parsed individually, falling back to `dateutil`. To ensure parsing is consistent and as-expected, please specify a format.\n",
      "  df2[\"BookingEndDateTime (Month / Day / Year)\"] = pd.to_datetime(df2[\"BookingEndDateTime (Month / Day / Year)\"])\n"
     ]
    }
   ],
   "source": [
    "df2[\"BookingEndDateTime (Month / Day / Year)\"] = pd.to_datetime(df2[\"BookingEndDateTime (Month / Day / Year)\"])\n",
    "print(df2[\"BookingEndDateTime (Month / Day / Year)\"].min(), \"→\", df2[\"BookingEndDateTime (Month / Day / Year)\"].max())"
   ]
  },
  {
   "cell_type": "code",
   "execution_count": 31,
   "id": "ef5b8645-8135-4408-b7c5-8b6fea51a264",
   "metadata": {},
   "outputs": [
    {
     "data": {
      "text/plain": [
       "<Axes: >"
      ]
     },
     "execution_count": 31,
     "metadata": {},
     "output_type": "execute_result"
    },
    {
     "data": {
      "image/png": "[encoded data removed]",
      "text/plain": [
       "<Figure size 640x480 with 1 Axes>"
      ]
     },
     "metadata": {},
     "output_type": "display_data"
    }
   ],
   "source": [
    "df1[\"Price (INR)\"].hist()"
   ]
  },
  {
   "cell_type": "code",
   "execution_count": 32,
   "id": "8795b3dc-25e7-49f1-9cff-a518c884a3dd",
   "metadata": {},
   "outputs": [
    {
     "data": {
      "text/plain": [
       "<Axes: >"
      ]
     },
     "execution_count": 32,
     "metadata": {},
     "output_type": "execute_result"
    },
    {
     "data": {
      "image/png": "[encoded data removed]",
      "text/plain": [
       "<Figure size 640x480 with 1 Axes>"
      ]
     },
     "metadata": {},
     "output_type": "display_data"
    }
   ],
   "source": [
    "df2[\"Price (INR)\"].hist()"
   ]
  },
  {
   "cell_type": "code",
   "execution_count": 28,
   "id": "406c0ec5-116d-4618-b55f-b5a5983f0afd",
   "metadata": {},
   "outputs": [],
   "source": [
    "df1[\"BookingEndDateTime (Month / Day / Year)\"] = pd.to_datetime(\n",
    "    df1[\"BookingEndDateTime (Month / Day / Year)\"], format=\"%m/%d/%Y\"\n",
    ")\n",
    "\n",
    "df2[\"BookingEndDateTime (Month / Day / Year)\"] = pd.to_datetime(\n",
    "    df2[\"BookingEndDateTime (Month / Day / Year)\"], format=\"%m/%d/%Y\"\n",
    ")"
   ]
  },
  {
   "cell_type": "code",
   "execution_count": 29,
   "id": "df06c47c-0cb1-44c8-a5f3-f3db04c4e617",
   "metadata": {},
   "outputs": [
    {
     "name": "stdout",
     "output_type": "stream",
     "text": [
      "datetime64[ns]\n",
      "datetime64[ns]\n"
     ]
    }
   ],
   "source": [
    "print(df1[\"BookingEndDateTime (Month / Day / Year)\"].dtype)\n",
    "print(df2[\"BookingEndDateTime (Month / Day / Year)\"].dtype)"
   ]
  },
  {
   "cell_type": "code",
   "execution_count": 30,
   "id": "85c3bcda-4725-4803-8009-990d2f10ea0b",
   "metadata": {},
   "outputs": [
    {
     "name": "stdout",
     "output_type": "stream",
     "text": [
      "0   2018-04-08\n",
      "1   2018-04-15\n",
      "2   2018-04-22\n",
      "3   2018-04-29\n",
      "4   2018-05-06\n",
      "Name: BookingEndDateTime (Month / Day / Year), dtype: datetime64[ns]\n",
      "0   2018-06-01\n",
      "1   2018-06-08\n",
      "2   2018-06-15\n",
      "3   2018-06-22\n",
      "4   2018-06-29\n",
      "Name: BookingEndDateTime (Month / Day / Year), dtype: datetime64[ns]\n"
     ]
    }
   ],
   "source": [
    "print(df1[\"BookingEndDateTime (Month / Day / Year)\"].head())\n",
    "print(df2[\"BookingEndDateTime (Month / Day / Year)\"].head())"
   ]
  },
  {
   "cell_type": "code",
   "execution_count": 31,
   "id": "47d15295-d947-4b75-97f2-4882c4028868",
   "metadata": {},
   "outputs": [
    {
     "name": "stdout",
     "output_type": "stream",
     "text": [
      "df1: 2018-04-01 00:00:00 → 2018-05-31 00:00:00\n",
      "df2: 2018-06-01 00:00:00 → 2018-06-30 00:00:00\n"
     ]
    }
   ],
   "source": [
    "print(\"df1:\", df1[\"BookingEndDateTime (Month / Day / Year)\"].min(), \"→\", df1[\"BookingEndDateTime (Month / Day / Year)\"].max())\n",
    "print(\"df2:\", df2[\"BookingEndDateTime (Month / Day / Year)\"].min(), \"→\", df2[\"BookingEndDateTime (Month / Day / Year)\"].max())"
   ]
  },
  {
   "cell_type": "code",
   "execution_count": 32,
   "id": "55122a50-3464-49c1-ab64-e80a07cf3866",
   "metadata": {},
   "outputs": [
    {
     "name": "stdout",
     "output_type": "stream",
     "text": [
      "NaT in df1: 0\n",
      "NaT in df2: 0\n"
     ]
    }
   ],
   "source": [
    "print(\"NaT in df1:\", df1[\"BookingEndDateTime (Month / Day / Year)\"].isna().sum())\n",
    "print(\"NaT in df2:\", df2[\"BookingEndDateTime (Month / Day / Year)\"].isna().sum())"
   ]
  },
  {
   "cell_type": "code",
   "execution_count": 33,
   "id": "de06ca4d-279d-47bb-8cd5-5a384ca71fb8",
   "metadata": {},
   "outputs": [],
   "source": [
    "df = pd.concat([df1, df2], ignore_index=True)"
   ]
  },
  {
   "cell_type": "code",
   "execution_count": 34,
   "id": "f40fe2d1-cef0-48ba-82b6-43e345dd6f4c",
   "metadata": {},
   "outputs": [
    {
     "name": "stdout",
     "output_type": "stream",
     "text": [
      "(3289, 7)\n"
     ]
    }
   ],
   "source": [
    "print(df.shape)"
   ]
  },
  {
   "cell_type": "code",
   "execution_count": 35,
   "id": "52a4158c-00a8-4abf-8ce2-8811c38d40ab",
   "metadata": {},
   "outputs": [
    {
     "name": "stdout",
     "output_type": "stream",
     "text": [
      "  ActivitySiteID      ActivityDescription  \\\n",
      "0            HXP  20-20-20  2.45pm-3.45pm   \n",
      "1            HXP  20-20-20  2.45pm-3.45pm   \n",
      "\n",
      "  BookingEndDateTime (Month / Day / Year) BookingStartTime  MaxBookees  \\\n",
      "0                              2018-04-08         14:45:00          25   \n",
      "1                              2018-04-15         14:45:00          25   \n",
      "\n",
      "   Number Booked  Price (INR)  \n",
      "0             12        499.0  \n",
      "1             15        499.0  \n"
     ]
    }
   ],
   "source": [
    "print(df.head(2))"
   ]
  },
  {
   "cell_type": "code",
   "execution_count": 36,
   "id": "d604d899-4057-4bb2-8ecb-84c12d94f00b",
   "metadata": {},
   "outputs": [
    {
     "name": "stdout",
     "output_type": "stream",
     "text": [
      "     ActivitySiteID ActivityDescription  \\\n",
      "3287            TSC       Zumba - 6-7pm   \n",
      "3288            TSC       Zumba - 6-7pm   \n",
      "\n",
      "     BookingEndDateTime (Month / Day / Year) BookingStartTime  MaxBookees  \\\n",
      "3287                              2018-06-14         18:00:00          50   \n",
      "3288                              2018-06-21         18:00:00          50   \n",
      "\n",
      "      Number Booked  Price (INR)  \n",
      "3287             13       1299.0  \n",
      "3288             12       1299.0  \n"
     ]
    }
   ],
   "source": [
    "print(df.tail(2)) "
   ]
  },
  {
   "cell_type": "code",
   "execution_count": 39,
   "id": "dc5a28bd-66d1-4f4d-b11d-996d94649989",
   "metadata": {},
   "outputs": [
    {
     "name": "stdout",
     "output_type": "stream",
     "text": [
      "2018-04-01 00:00:00\n"
     ]
    }
   ],
   "source": [
    "print(df[\"BookingEndDateTime (Month / Day / Year)\"].min())"
   ]
  },
  {
   "cell_type": "code",
   "execution_count": 40,
   "id": "5e04a335-94a5-4f33-9151-9ef0af46fa1d",
   "metadata": {},
   "outputs": [
    {
     "name": "stdout",
     "output_type": "stream",
     "text": [
      "2018-06-30 00:00:00\n"
     ]
    }
   ],
   "source": [
    "print(df[\"BookingEndDateTime (Month / Day / Year)\"].max())"
   ]
  },
  {
   "cell_type": "code",
   "execution_count": 41,
   "id": "180f395d-f31a-4753-b9c9-57baad56bf27",
   "metadata": {},
   "outputs": [
    {
     "name": "stdout",
     "output_type": "stream",
     "text": [
      "Month_Year\n",
      "2018-04    1076\n",
      "2018-05    1101\n",
      "2018-06    1112\n",
      "Freq: M, Name: count, dtype: int64\n"
     ]
    }
   ],
   "source": [
    "df[\"Month_Year\"] = df[\"BookingEndDateTime (Month / Day / Year)\"].dt.to_period(\"M\")\n",
    "print(df[\"Month_Year\"].value_counts().sort_index())"
   ]
  },
  {
   "cell_type": "code",
   "execution_count": 42,
   "id": "f1b2ad51-365f-468f-b703-732af508a732",
   "metadata": {},
   "outputs": [
    {
     "name": "stdout",
     "output_type": "stream",
     "text": [
      "Month_Year\n",
      "2018-04    1862.108614\n",
      "2018-05    1848.770852\n",
      "2018-06    1847.561151\n",
      "Freq: M, Name: Price (INR), dtype: float64\n"
     ]
    },
    {
     "data": {
      "text/plain": [
       "<Axes: title={'center': 'Average Price per Month'}, xlabel='Month_Year', ylabel='INR'>"
      ]
     },
     "execution_count": 42,
     "metadata": {},
     "output_type": "execute_result"
    },
    {
     "data": {
      "image/png": "[encoded data removed]",
      "text/plain": [
       "<Figure size 640x480 with 1 Axes>"
      ]
     },
     "metadata": {},
     "output_type": "display_data"
    }
   ],
   "source": [
    "monthly_avg = df.groupby(\"Month_Year\")[\"Price (INR)\"].mean()\n",
    "print(monthly_avg)\n",
    "monthly_avg.plot(kind=\"bar\", title=\"Average Price per Month\", ylabel=\"INR\")"
   ]
  },
  {
   "cell_type": "code",
   "execution_count": 43,
   "id": "65169f85-6405-4615-80a5-687591544a1d",
   "metadata": {},
   "outputs": [
    {
     "data": {
      "text/plain": [
       "<Axes: title={'center': 'Price Trend Over Time'}, xlabel='BookingEndDateTime (Month / Day / Year)'>"
      ]
     },
     "execution_count": 43,
     "metadata": {},
     "output_type": "execute_result"
    },
    {
     "data": {
      "image/png": "[encoded data removed]",
      "text/plain": [
       "<Figure size 640x480 with 1 Axes>"
      ]
     },
     "metadata": {},
     "output_type": "display_data"
    }
   ],
   "source": [
    "df_sorted = df.sort_values(\"BookingEndDateTime (Month / Day / Year)\")\n",
    "df_sorted.plot(x=\"BookingEndDateTime (Month / Day / Year)\", y=\"Price (INR)\", title=\"Price Trend Over Time\")"
   ]
  },
  {
   "cell_type": "code",
   "execution_count": 44,
   "id": "828f1b1a-1d2d-4c2b-988a-6ba49c154aeb",
   "metadata": {},
   "outputs": [
    {
     "data": {
      "text/plain": [
       "ActivitySiteID\n",
       "HXP    771\n",
       "SBP    731\n",
       "BRP    727\n",
       "TSC    531\n",
       "NBL    529\n",
       "Name: count, dtype: int64"
      ]
     },
     "execution_count": 44,
     "metadata": {},
     "output_type": "execute_result"
    }
   ],
   "source": [
    "df[\"ActivityDescription\"].value_counts().head(10)\n",
    "df[\"ActivitySiteID\"].value_counts()"
   ]
  },
  {
   "cell_type": "code",
   "execution_count": 45,
   "id": "d7514d04-548d-454b-b71c-b61199434470",
   "metadata": {},
   "outputs": [
    {
     "data": {
      "text/plain": [
       "ActivityDescription\n",
       "Tai-Chi  12 -1pm             3999.000000\n",
       "Family Bootcamp 4-4.45pm     3999.000000\n",
       "Insanity 5:00-6:00pm         3999.000000\n",
       "Tai Chi 2.00-3.00pm          3999.000000\n",
       "Junior Swimfit 7pm-8pm       3999.000000\n",
       "M M A Cond 8.30-9.30am       3999.000000\n",
       "Jnr Gym Ind 10.30-11.00am    3713.285714\n",
       "Jnr Gym Ind 3.30-4.00pm      3528.411765\n",
       "Jnr Gym Ind 3.30-5.00pm      3399.000000\n",
       "Pilates 7.30-8.30pm          2999.000000\n",
       "Name: Price (INR), dtype: float64"
      ]
     },
     "execution_count": 45,
     "metadata": {},
     "output_type": "execute_result"
    }
   ],
   "source": [
    "df.groupby(\"ActivityDescription\")[\"Price (INR)\"].mean().sort_values(ascending=False).head(10)"
   ]
  },
  {
   "cell_type": "code",
   "execution_count": null,
   "id": "17b9bf49-c4b7-42ea-957d-0b15e8c0813f",
   "metadata": {},
   "outputs": [],
   "source": []
  }
 ],
 "metadata": {
  "kernelspec": {
   "display_name": "Python 3 (ipykernel)",
   "language": "python",
   "name": "python3"
  },
  "language_info": {
   "codemirror_mode": {
    "name": "ipython",
    "version": 3
   },
   "file_extension": ".py",
   "mimetype": "text/x-python",
   "name": "python",
   "nbconvert_exporter": "python",
   "pygments_lexer": "ipython3",
   "version": "3.11.7"
  }
 },
 "nbformat": 4,
 "nbformat_minor": 5
}
