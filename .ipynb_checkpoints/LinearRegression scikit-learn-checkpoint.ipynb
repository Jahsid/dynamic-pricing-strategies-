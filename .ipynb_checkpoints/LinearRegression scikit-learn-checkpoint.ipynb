{
 "cells": [
  {
   "cell_type": "markdown",
   "id": "1539c526",
   "metadata": {},
   "source": [
    "# Price Elasticity Model — Fitness Classes\n",
    "\n",
    "**Goal:** Estimate how changes in price affect demand (bookings), controlling for time, location, and class attributes.\n",
    "\n",
    "> Update the `DATA_PATH` to your cleaned CSV."
   ]
  },
  {
   "cell_type": "code",
   "execution_count": null,
   "id": "9f808e54",
   "metadata": {},
   "outputs": [],
   "source": [
    "import pandas as pd\n",
    "import numpy as np\n",
    "import statsmodels.api as sm\n",
    "import statsmodels.formula.api as smf\n",
    "import matplotlib.pyplot as plt\n",
    "from pathlib import Path\n",
    "\n",
    "DATA_PATH = Path('/mnt/data/cleaned_fitness_classes.csv')  # <-- update if needed\n",
    "df = pd.read_csv(DATA_PATH)\n",
    "df['datetime_local'] = pd.to_datetime(df['datetime_local'])\n",
    "df['hour'] = df['datetime_local'].dt.hour\n",
    "df['dow'] = df['datetime_local'].dt.dayofweek\n",
    "df['utilization'] = df['bookings'] / df['capacity']\n",
    "df = df.replace([np.inf, -np.inf], np.nan).dropna(subset=['final_price','bookings','capacity'])\n",
    "df = df[(df['capacity']>0) & (df['final_price']>0)]\n",
    "df.head()"
   ]
  },
  {
   "cell_type": "markdown",
   "id": "8dcfc1a3",
   "metadata": {},
   "source": [
    "## 1. Log–Log Elasticity Model\n",
    "We estimate: `log(bookings) ~ log(price) + controls`.\n",
    "The coefficient on `log(price)` is (approx.) own-price elasticity."
   ]
  },
  {
   "cell_type": "code",
   "execution_count": null,
   "id": "c0470350",
   "metadata": {},
   "outputs": [],
   "source": [
    "df['log_bookings'] = np.log1p(df['bookings'])\n",
    "df['log_price'] = np.log(df['final_price'])\n",
    "# Example controls: hour, day-of-week, location, category\n",
    "formula = 'log_bookings ~ log_price + C(hour) + C(dow) + C(studio_location) + C(category)'\n",
    "model = smf.ols(formula, data=df).fit(cov_type='HC3')\n",
    "model.summary()"
   ]
  },
  {
   "cell_type": "markdown",
   "id": "e94c7fd1",
   "metadata": {},
   "source": [
    "## 2. Segment-Level Elasticities\n",
    "Estimate elasticities separately for peak vs. off-peak, or by category/location."
   ]
  },
  {
   "cell_type": "code",
   "execution_count": null,
   "id": "28cee738",
   "metadata": {},
   "outputs": [],
   "source": [
    "def run_segment_elasticity(segment_name, segment_filter):\n",
    "    seg = df[segment_filter].copy()\n",
    "    if len(seg) < 200:\n",
    "        print(f'Segment {segment_name}: not enough data ({len(seg)})')\n",
    "        return None\n",
    "    m = smf.ols('log_bookings ~ log_price + C(hour) + C(dow) + C(studio_location) + C(category)', data=seg).fit(cov_type='HC3')\n",
    "    print(f'\\n=== {segment_name} ===')\n",
    "    print(m.summary().tables[1])\n",
    "    return m\n",
    "\n",
    "# Example segmentation: peak hours 6–9 and off-peak\n",
    "peak_hours = [6,7,8,18,19,20,21]\n",
    "m_peak = run_segment_elasticity('Peak Hours', df['hour'].isin(peak_hours))\n",
    "m_off = run_segment_elasticity('Off-Peak Hours', ~df['hour'].isin(peak_hours))"
   ]
  },
  {
   "cell_type": "markdown",
   "id": "d92151db",
   "metadata": {},
   "source": [
    "## 3. Elasticity to Pricing Guidance\n",
    "Convert elasticities to recommended % adjustments for revenue optimization."
   ]
  },
  {
   "cell_type": "code",
   "execution_count": null,
   "id": "bc4e4b18",
   "metadata": {},
   "outputs": [],
   "source": [
    "def recommended_price_change(elasticity, target_utilization, current_utilization):\n",
    "    # Simple heuristic: move price in the direction of utilization gap, scaled by elasticity\n",
    "    gap = target_utilization - current_utilization\n",
    "    # Bound the recommendation to +/- 20%\n",
    "    pct_change = np.clip(gap * (-1/elasticity if elasticity != 0 else 0.0), -0.2, 0.2)\n",
    "    return pct_change\n",
    "\n",
    "# Example usage (assume elasticity ~ -0.8)\n",
    "example_elast = -0.8\n",
    "cur_util = df['utilization'].mean()\n",
    "rec = recommended_price_change(example_elast, target_utilization=0.8, current_utilization=cur_util)\n",
    "print('Avg utilization:', round(cur_util,3), 'Recommended price delta:', round(rec*100,1),'%')"
   ]
  },
  {
   "cell_type": "markdown",
   "id": "6a29aa10",
   "metadata": {},
   "source": [
    "## 4. Diagnostics\n",
    "- Residual plots\n",
    "- Influence points\n",
    "- Heteroskedasticity checks"
   ]
  },
  {
   "cell_type": "code",
   "execution_count": null,
   "id": "de4a9eea",
   "metadata": {},
   "outputs": [],
   "source": [
    "resid = model.resid\n",
    "fitted = model.fittedvalues\n",
    "plt.figure()\n",
    "plt.scatter(fitted, resid, alpha=0.3)\n",
    "plt.axhline(0, linestyle='--')\n",
    "plt.xlabel('Fitted')\n",
    "plt.ylabel('Residuals')\n",
    "plt.title('Residuals vs Fitted')\n",
    "plt.show()"
   ]
  }
 ],
 "metadata": {},
 "nbformat": 4,
 "nbformat_minor": 5
}
