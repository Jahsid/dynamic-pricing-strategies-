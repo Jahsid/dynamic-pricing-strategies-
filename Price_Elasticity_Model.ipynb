{
 "cells": [
  {
   "cell_type": "code",
   "execution_count": 32,
   "id": "e6cbf378-c2a7-4d04-8e90-652ce4dac6d5",
   "metadata": {},
   "outputs": [],
   "source": [
    "from sklearn.linear_model import LinearRegression\n",
    "import pandas as pd\n",
    "import numpy as np"
   ]
  },
  {
   "cell_type": "code",
   "execution_count": 33,
   "id": "33c36463-8f40-49f3-8635-8f01f60a2a49",
   "metadata": {},
   "outputs": [],
   "source": [
    "df = pd.read_csv(\"Cleaned_Fitness_Classes_Data.csv\")"
   ]
  },
  {
   "cell_type": "markdown",
   "id": "83e9fe6c-f958-45b8-8dd8-c6eca7fbaafb",
   "metadata": {},
   "source": [
    "# Filter out cases where bookings or prices are zero (to avoid log issues)\r\n"
   ]
  },
  {
   "cell_type": "code",
   "execution_count": 34,
   "id": "adebaaed-27fa-4a62-9462-803be44da91d",
   "metadata": {},
   "outputs": [],
   "source": [
    "df_elasticity = df[(df[\"Price (INR)\"] > 0) & (df[\"Number Booked\"] > 0)].copy()"
   ]
  },
  {
   "cell_type": "markdown",
   "id": "6a7dc582-483f-4893-98af-4bb72bb14d08",
   "metadata": {},
   "source": [
    "# Take logs for elasticity model"
   ]
  },
  {
   "cell_type": "code",
   "execution_count": 35,
   "id": "f15e6cf3-e070-4726-9451-a54ef3528d99",
   "metadata": {},
   "outputs": [],
   "source": [
    "df_elasticity[\"log_price\"] = np.log(df_elasticity[\"Price (INR)\"])\n",
    "df_elasticity[\"log_booked\"] = np.log(df_elasticity[\"Number Booked\"])"
   ]
  },
  {
   "cell_type": "markdown",
   "id": "0ed89536-52b6-43aa-9bef-e068f2551231",
   "metadata": {},
   "source": [
    "# Define X (independent) and y (dependent)\n"
   ]
  },
  {
   "cell_type": "code",
   "execution_count": 38,
   "id": "e8e0acc0-59da-4613-b268-c4c69b4bd5ae",
   "metadata": {},
   "outputs": [],
   "source": [
    "X = df_elasticity[[\"log_price\"]]\n",
    "y = df_elasticity[\"log_booked\"]"
   ]
  },
  {
   "cell_type": "markdown",
   "id": "59f90888-5708-4fe9-b605-19fc457a6143",
   "metadata": {},
   "source": [
    "# Fit regression model\n"
   ]
  },
  {
   "cell_type": "code",
   "execution_count": 39,
   "id": "3d3b3e54-f38d-4e79-b30d-960742b11000",
   "metadata": {},
   "outputs": [
    {
     "data": {
      "text/html": [
       "<style>#sk-container-id-2 {color: black;background-color: white;}#sk-container-id-2 pre{padding: 0;}#sk-container-id-2 div.sk-toggleable {background-color: white;}#sk-container-id-2 label.sk-toggleable__label {cursor: pointer;display: block;width: 100%;margin-bottom: 0;padding: 0.3em;box-sizing: border-box;text-align: center;}#sk-container-id-2 label.sk-toggleable__label-arrow:before {content: \"▸\";float: left;margin-right: 0.25em;color: #696969;}#sk-container-id-2 label.sk-toggleable__label-arrow:hover:before {color: black;}#sk-container-id-2 div.sk-estimator:hover label.sk-toggleable__label-arrow:before {color: black;}#sk-container-id-2 div.sk-toggleable__content {max-height: 0;max-width: 0;overflow: hidden;text-align: left;background-color: #f0f8ff;}#sk-container-id-2 div.sk-toggleable__content pre {margin: 0.2em;color: black;border-radius: 0.25em;background-color: #f0f8ff;}#sk-container-id-2 input.sk-toggleable__control:checked~div.sk-toggleable__content {max-height: 200px;max-width: 100%;overflow: auto;}#sk-container-id-2 input.sk-toggleable__control:checked~label.sk-toggleable__label-arrow:before {content: \"▾\";}#sk-container-id-2 div.sk-estimator input.sk-toggleable__control:checked~label.sk-toggleable__label {background-color: #d4ebff;}#sk-container-id-2 div.sk-label input.sk-toggleable__control:checked~label.sk-toggleable__label {background-color: #d4ebff;}#sk-container-id-2 input.sk-hidden--visually {border: 0;clip: rect(1px 1px 1px 1px);clip: rect(1px, 1px, 1px, 1px);height: 1px;margin: -1px;overflow: hidden;padding: 0;position: absolute;width: 1px;}#sk-container-id-2 div.sk-estimator {font-family: monospace;background-color: #f0f8ff;border: 1px dotted black;border-radius: 0.25em;box-sizing: border-box;margin-bottom: 0.5em;}#sk-container-id-2 div.sk-estimator:hover {background-color: #d4ebff;}#sk-container-id-2 div.sk-parallel-item::after {content: \"\";width: 100%;border-bottom: 1px solid gray;flex-grow: 1;}#sk-container-id-2 div.sk-label:hover label.sk-toggleable__label {background-color: #d4ebff;}#sk-container-id-2 div.sk-serial::before {content: \"\";position: absolute;border-left: 1px solid gray;box-sizing: border-box;top: 0;bottom: 0;left: 50%;z-index: 0;}#sk-container-id-2 div.sk-serial {display: flex;flex-direction: column;align-items: center;background-color: white;padding-right: 0.2em;padding-left: 0.2em;position: relative;}#sk-container-id-2 div.sk-item {position: relative;z-index: 1;}#sk-container-id-2 div.sk-parallel {display: flex;align-items: stretch;justify-content: center;background-color: white;position: relative;}#sk-container-id-2 div.sk-item::before, #sk-container-id-2 div.sk-parallel-item::before {content: \"\";position: absolute;border-left: 1px solid gray;box-sizing: border-box;top: 0;bottom: 0;left: 50%;z-index: -1;}#sk-container-id-2 div.sk-parallel-item {display: flex;flex-direction: column;z-index: 1;position: relative;background-color: white;}#sk-container-id-2 div.sk-parallel-item:first-child::after {align-self: flex-end;width: 50%;}#sk-container-id-2 div.sk-parallel-item:last-child::after {align-self: flex-start;width: 50%;}#sk-container-id-2 div.sk-parallel-item:only-child::after {width: 0;}#sk-container-id-2 div.sk-dashed-wrapped {border: 1px dashed gray;margin: 0 0.4em 0.5em 0.4em;box-sizing: border-box;padding-bottom: 0.4em;background-color: white;}#sk-container-id-2 div.sk-label label {font-family: monospace;font-weight: bold;display: inline-block;line-height: 1.2em;}#sk-container-id-2 div.sk-label-container {text-align: center;}#sk-container-id-2 div.sk-container {/* jupyter's `normalize.less` sets `[hidden] { display: none; }` but bootstrap.min.css set `[hidden] { display: none !important; }` so we also need the `!important` here to be able to override the default hidden behavior on the sphinx rendered scikit-learn.org. See: https://github.com/scikit-learn/scikit-learn/issues/21755 */display: inline-block !important;position: relative;}#sk-container-id-2 div.sk-text-repr-fallback {display: none;}</style><div id=\"sk-container-id-2\" class=\"sk-top-container\"><div class=\"sk-text-repr-fallback\"><pre>LinearRegression()</pre><b>In a Jupyter environment, please rerun this cell to show the HTML representation or trust the notebook. <br />On GitHub, the HTML representation is unable to render, please try loading this page with nbviewer.org.</b></div><div class=\"sk-container\" hidden><div class=\"sk-item\"><div class=\"sk-estimator sk-toggleable\"><input class=\"sk-toggleable__control sk-hidden--visually\" id=\"sk-estimator-id-2\" type=\"checkbox\" checked><label for=\"sk-estimator-id-2\" class=\"sk-toggleable__label sk-toggleable__label-arrow\">LinearRegression</label><div class=\"sk-toggleable__content\"><pre>LinearRegression()</pre></div></div></div></div></div>"
      ],
      "text/plain": [
       "LinearRegression()"
      ]
     },
     "execution_count": 39,
     "metadata": {},
     "output_type": "execute_result"
    }
   ],
   "source": [
    "model = LinearRegression()\n",
    "model.fit(X, y)"
   ]
  },
  {
   "cell_type": "markdown",
   "id": "b18fbb73-2daf-4230-9dc1-4f8730e6be18",
   "metadata": {},
   "source": [
    "# Extract coefficient (this is elasticity!)\n"
   ]
  },
  {
   "cell_type": "code",
   "execution_count": 40,
   "id": "97d9ff56-248a-4340-b71e-d925eeef9a63",
   "metadata": {},
   "outputs": [],
   "source": [
    "elasticity = model.coef_[0]"
   ]
  },
  {
   "cell_type": "code",
   "execution_count": 41,
   "id": "855da3d8-71c4-41ee-bd60-1eab81e587be",
   "metadata": {},
   "outputs": [
    {
     "name": "stdout",
     "output_type": "stream",
     "text": [
      "Price Elasticity of Demand: -0.3246203188139803\n"
     ]
    }
   ],
   "source": [
    "print(\"Price Elasticity of Demand:\", elasticity)"
   ]
  },
  {
   "cell_type": "code",
   "execution_count": 42,
   "id": "99b3369d-2718-455a-9595-be679ad72495",
   "metadata": {},
   "outputs": [],
   "source": [
    "from sklearn.metrics import mean_squared_error, r2_score\n",
    "import matplotlib.pyplot as plt"
   ]
  },
  {
   "cell_type": "markdown",
   "id": "4a8901b1-5b1e-487d-baae-3c1f9eceeffe",
   "metadata": {},
   "source": [
    "# Make predictions\r\n"
   ]
  },
  {
   "cell_type": "code",
   "execution_count": 43,
   "id": "56a7a267-076a-4f22-8236-36c1b8e3a40a",
   "metadata": {},
   "outputs": [],
   "source": [
    "y_pred = model.predict(X)"
   ]
  },
  {
   "cell_type": "markdown",
   "id": "763caec4-7b15-46a6-b531-b2beefad621d",
   "metadata": {},
   "source": [
    "# 1. R-squared\r\n"
   ]
  },
  {
   "cell_type": "code",
   "execution_count": 44,
   "id": "7d560da2-e7db-476e-a235-07a8470a6f07",
   "metadata": {},
   "outputs": [],
   "source": [
    "r2 = r2_score(y, y_pred)"
   ]
  },
  {
   "cell_type": "markdown",
   "id": "f1aaa609-1852-4318-be1f-9e84391088c7",
   "metadata": {},
   "source": [
    "# 2. Mean Squared Error and RMSE\n"
   ]
  },
  {
   "cell_type": "code",
   "execution_count": 45,
   "id": "6ceb4855-3e1c-45d4-b6ea-731dcff4d3ad",
   "metadata": {},
   "outputs": [],
   "source": [
    "mse = mean_squared_error(y, y_pred)\n",
    "rmse = np.sqrt(mse)"
   ]
  },
  {
   "cell_type": "code",
   "execution_count": 46,
   "id": "7465444b-807d-40be-b93b-797b5be06084",
   "metadata": {},
   "outputs": [
    {
     "name": "stdout",
     "output_type": "stream",
     "text": [
      "Model Performance:\n",
      "R-squared: 0.0351\n",
      "Mean Squared Error (MSE): 0.5870\n",
      "Root Mean Squared Error (RMSE): 0.7662\n"
     ]
    }
   ],
   "source": [
    "print(\"Model Performance:\")\n",
    "print(f\"R-squared: {r2:.4f}\")\n",
    "print(f\"Mean Squared Error (MSE): {mse:.4f}\")\n",
    "print(f\"Root Mean Squared Error (RMSE): {rmse:.4f}\")"
   ]
  },
  {
   "cell_type": "markdown",
   "id": "2ae2fa60-2dce-409d-b910-6af2daee95e2",
   "metadata": {},
   "source": [
    "# 3. Residual plots"
   ]
  },
  {
   "cell_type": "code",
   "execution_count": 47,
   "id": "d4cb7197-4171-4781-82bb-d7894b803dd5",
   "metadata": {},
   "outputs": [],
   "source": [
    "residuals = y - y_pred"
   ]
  },
  {
   "cell_type": "code",
   "execution_count": 48,
   "id": "6500ab4b-4a7b-4a6b-8450-bf89b22c061b",
   "metadata": {},
   "outputs": [
    {
     "data": {
      "text/plain": [
       "<Figure size 1000x500 with 0 Axes>"
      ]
     },
     "execution_count": 48,
     "metadata": {},
     "output_type": "execute_result"
    },
    {
     "data": {
      "text/plain": [
       "<Figure size 1000x500 with 0 Axes>"
      ]
     },
     "metadata": {},
     "output_type": "display_data"
    }
   ],
   "source": [
    "plt.figure(figsize=(10,5))"
   ]
  },
  {
   "cell_type": "markdown",
   "id": "bb0da35c-4282-4bc4-b4cb-2b69b112cdf7",
   "metadata": {},
   "source": [
    "# Residuals vs Fitted"
   ]
  },
  {
   "cell_type": "code",
   "execution_count": 49,
   "id": "95ecc5a6-8445-4600-a9aa-af5ab67cd82b",
   "metadata": {},
   "outputs": [
    {
     "data": {
      "text/plain": [
       "Text(0.5, 1.0, 'Residuals vs Fitted')"
      ]
     },
     "execution_count": 49,
     "metadata": {},
     "output_type": "execute_result"
    },
    {
     "data": {
      "image/png": "[encoded data removed]",
      "text/plain": [
       "<Figure size 640x480 with 1 Axes>"
      ]
     },
     "metadata": {},
     "output_type": "display_data"
    }
   ],
   "source": [
    "plt.subplot(1,2,1)\n",
    "plt.scatter(y_pred, residuals, alpha=0.5)\n",
    "plt.axhline(y=0, color='red', linestyle='--')\n",
    "plt.xlabel(\"Fitted Values (Predicted log(Bookings))\")\n",
    "plt.ylabel(\"Residuals\")\n",
    "plt.title(\"Residuals vs Fitted\")"
   ]
  },
  {
   "cell_type": "markdown",
   "id": "bce09b4b-ac5b-44d1-b868-0bc8d2205330",
   "metadata": {},
   "source": [
    "# Histogram of residuals"
   ]
  },
  {
   "cell_type": "code",
   "execution_count": 50,
   "id": "adf01e65-c614-490e-89b8-1f603a246d5a",
   "metadata": {},
   "outputs": [
    {
     "data": {
      "text/plain": [
       "Text(0.5, 1.0, 'Distribution of Residuals')"
      ]
     },
     "execution_count": 50,
     "metadata": {},
     "output_type": "execute_result"
    },
    {
     "data": {
      "image/png": "[encoded data removed]",
      "text/plain": [
       "<Figure size 640x480 with 1 Axes>"
      ]
     },
     "metadata": {},
     "output_type": "display_data"
    }
   ],
   "source": [
    "plt.subplot(1,2,2)\n",
    "plt.hist(residuals, bins=20, edgecolor='black')\n",
    "plt.xlabel(\"Residual\")\n",
    "plt.ylabel(\"Frequency\")\n",
    "plt.title(\"Distribution of Residuals\")"
   ]
  },
  {
   "cell_type": "code",
   "execution_count": 51,
   "id": "453a9ac3-89af-4186-b5e9-86357ff4a879",
   "metadata": {},
   "outputs": [
    {
     "data": {
      "text/plain": [
       "<Figure size 640x480 with 0 Axes>"
      ]
     },
     "metadata": {},
     "output_type": "display_data"
    }
   ],
   "source": [
    "plt.tight_layout()\n",
    "plt.show()"
   ]
  },
  {
   "cell_type": "code",
   "execution_count": null,
   "id": "94585378-dc56-4706-91eb-9b197b8dd772",
   "metadata": {},
   "outputs": [],
   "source": []
  }
 ],
 "metadata": {
  "kernelspec": {
   "display_name": "Python 3 (ipykernel)",
   "language": "python",
   "name": "python3"
  },
  "language_info": {
   "codemirror_mode": {
    "name": "ipython",
    "version": 3
   },
   "file_extension": ".py",
   "mimetype": "text/x-python",
   "name": "python",
   "nbconvert_exporter": "python",
   "pygments_lexer": "ipython3",
   "version": "3.11.7"
  }
 },
 "nbformat": 4,
 "nbformat_minor": 5
}
